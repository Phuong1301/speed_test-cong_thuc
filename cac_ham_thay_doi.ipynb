{
  "nbformat": 4,
  "nbformat_minor": 0,
  "metadata": {
    "colab": {
      "name": "Untitled2.ipynb",
      "provenance": []
    },
    "kernelspec": {
      "name": "python3",
      "display_name": "Python 3"
    },
    "language_info": {
      "name": "python"
    }
  },
  "cells": [
    {
      "cell_type": "code",
      "metadata": {
        "id": "k6-t7gcXuyMO"
      },
      "source": [
        "def thuct_up_speed(results):\n",
        "  id = [5865,11387,16266,20892,24971,28608,32142,35550,38615,41477,44347,47062,49451,51865,54263,56500,58514,60482,62091,63658,65072,66548,67887]\n",
        "  loinhuan = 1\n",
        "  for nam in range(1,len(id)-1):\n",
        "    cty = np.argmax(results[id[nam-1]:id[nam]]) + id[nam-1]\n",
        "    loinhuan = loinhuan * Z[cty]\n",
        "  lai = loinhuan**(1/21)\n",
        "  return lai"
      ],
      "execution_count": 1,
      "outputs": []
    },
    {
      "cell_type": "code",
      "metadata": {
        "id": "g6FjpKN5u4-u"
      },
      "source": [
        "def thucongthuc_up_speed(congthuc):\n",
        "    results = eval(congthuc)\n",
        "    results = dostuff(results)\n",
        "    lai = thuct_up_speed(results)\n",
        "    if lai > 1.4:\n",
        "        return (lai,congthuc)"
      ],
      "execution_count": null,
      "outputs": []
    }
  ]
}