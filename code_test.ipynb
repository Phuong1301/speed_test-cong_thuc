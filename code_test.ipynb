{
  "nbformat": 4,
  "nbformat_minor": 0,
  "metadata": {
    "colab": {
      "name": "eval_by_long",
      "provenance": []
    },
    "kernelspec": {
      "display_name": "Python 3",
      "name": "python3"
    },
    "language_info": {
      "name": "python"
    }
  },
  "cells": [
    {
      "cell_type": "code",
      "metadata": {
        "colab": {
          "base_uri": "https://localhost:8080/"
        },
        "id": "uTYuRAtTmpUD",
        "outputId": "55ecfa16-9e4e-4131-81ee-3a62e6cb0f8d"
      },
      "source": [
        "import pandas as pd\n",
        "import numpy as np\n",
        "import time as time_test\n",
        "data_read = pd.read_excel(\"USA_Data/_USA_encrypted.xlsx\")\n",
        "data = pd.DataFrame({\n",
        "    'YEAR': data_read['YEAR'],\n",
        "    'cap': data_read['\\x1dA'],\n",
        "    'earnings': data_read['B'],\n",
        "    'cogs': data_read['\\x1dC'],\n",
        "    'sales': data_read['\\x1dD'],\n",
        "    'cash': data_read['\\x1dE'],\n",
        "    'investments': data_read['\\x1dF'],\n",
        "    'receivable': data_read['\\x1dG'],\n",
        "    'inventory': data_read['\\x1dH'],\n",
        "    'debts': data_read['\\x1dI'],\n",
        "    'profit': data_read['\\nPROFIT'],\n",
        "}, dtype=np.float)\n",
        "print(\"Done ReadData!!!!!\")\n",
        "A = np.array(data[\"cap\"])\n",
        "B = np.array(data[\"earnings\"])\n",
        "C = np.array(data[\"cogs\"])\n",
        "D = np.array(data[\"sales\"])\n",
        "E = np.array(data[\"cash\"])\n",
        "F = np.array(data[\"investments\"])\n",
        "G = np.array(data[\"receivable\"])\n",
        "H = np.array(data[\"inventory\"])\n",
        "I = np.array(data[\"debts\"])\n",
        "Z = np.array(data[\"profit\"])\n",
        "id = []\n",
        "time = 0\n",
        "for nam in range(2021,1998,-1):\n",
        "  id.append(len(data[data.YEAR == nam])+time)\n",
        "  time += len(data[data.YEAR == nam])"
      ],
      "execution_count": 22,
      "outputs": [
        {
          "output_type": "stream",
          "text": [
            "Done ReadData!!!!!\n"
          ],
          "name": "stdout"
        }
      ]
    },
    {
      "cell_type": "code",
      "metadata": {
        "colab": {
          "base_uri": "https://localhost:8080/"
        },
        "id": "ji_Cz_YHmrYT",
        "outputId": "6c63690e-5cd2-448e-d2d8-cee4b6cafce2"
      },
      "source": [
        "def dostuff(x):\n",
        "    shape = x.shape\n",
        "    x = x.ravel()\n",
        "    x[np.isnan(x)] = -1000000000\n",
        "    x[np.isinf(x)] = -1000000000\n",
        "    x = x.reshape(shape)\n",
        "    return x\n",
        "\n",
        "def thuct_up_speed(results):\n",
        "  id = [5865,11387,16266,20892,24971,28608,32142,35550,38615,41477,44347,47062,49451,51865,54263,56500,58514,60482,62091,63658,65072,66548,67887]\n",
        "  loinhuan = 1\n",
        "  for nam in range(1,len(id)-1):\n",
        "    cty = np.argmax(results[id[nam-1]:id[nam]]) + id[nam-1]\n",
        "    loinhuan = loinhuan * Z[cty]\n",
        "  lai = loinhuan**(1/21)\n",
        "  return lai\n",
        "\n",
        "def thuct(results):\n",
        "  id = [5865,11387,16266,20892,24971,28608,32142,35550,38615,41477,44347,47062,49451,51865,54263,56500,58514,60482,62091,63658,65072,66548,67887]\n",
        "  loinhuan = 1\n",
        "  for nam in range(1,len(id)-1):\n",
        "    for ketqua in np.where(results == max(results[id[nam-1]:id[nam]]))[0]:\n",
        "      if ketqua < id[nam] and ketqua > id[nam-1]:\n",
        "        cty = ketqua\n",
        "    loinhuan = loinhuan * Z[cty]\n",
        "  lai = loinhuan**(1/21)\n",
        "  return lai\n",
        "thuct(dostuff(A))"
      ],
      "execution_count": 26,
      "outputs": [
        {
          "output_type": "execute_result",
          "data": {
            "text/plain": [
              "1.1660206439309415"
            ]
          },
          "metadata": {
            "tags": []
          },
          "execution_count": 26
        }
      ]
    },
    {
      "cell_type": "code",
      "metadata": {
        "id": "3LASAvw1mtg8"
      },
      "source": [
        "def thucongthuc(congthuc):\n",
        "    results = eval(congthuc)\n",
        "    results = dostuff(results)\n",
        "    lai = thuct(results)\n",
        "    print(lai,congthuc)\n",
        "    if lai > 1.4:\n",
        "        return (lai,congthuc)\n",
        "\n",
        "def thucongthuc_update(congthuc):\n",
        "    results = eval(congthuc)\n",
        "    results = dostuff(results)\n",
        "    lai = thuct_up_speed(results)\n",
        "    print(lai,congthuc)\n",
        "    if lai > 1.4:\n",
        "        return (lai,congthuc) \n",
        "start = time_test.time()\n",
        "for i in range(100000):\n",
        "  thucongthuc(\"A+B+C+D+E*F+A*B\")\n",
        "\n",
        "print(f\"Thời gian chạy code chưa up_speed : {time_test.time() - start}\")\n",
        "start = time_test.time()\n",
        "for i in range(100000):\n",
        "  thucongthuc_update(\"A+B+C+D+E*F+A*B\")\n",
        "\n",
        "print(f\"Thời gian chạy code đã up_speed : {time_test.time() - start}\")"
      ],
      "execution_count": null,
      "outputs": []
    }
  ]
}